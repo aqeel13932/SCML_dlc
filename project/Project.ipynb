{
 "cells": [
  {
   "cell_type": "code",
   "execution_count": 1,
   "metadata": {},
   "outputs": [],
   "source": [
    "import numpy as np\n",
    "import matplotlib.pyplot as plt\n",
    "%matplotlib inline"
   ]
  },
  {
   "cell_type": "code",
   "execution_count": 2,
   "metadata": {},
   "outputs": [],
   "source": [
    "class Env(object):\n",
    "    \n",
    "    def __init__(self,sibly,num_locations=20,num_agents=20):\n",
    "        self.reward = np.zeros(num_locations)\n",
    "        self.groups = np.zeros(num_locations)\n",
    "        self.sibly=np.power(sibly,5)\n",
    "        self.agents = np.zeros(num_agents)\n",
    "        self.agents = np.random.randint(0,num_locations,num_agents)\n",
    "        self.Update_groups()\n",
    "        \n",
    "    def Benefit(self):\n",
    "        numenater = np.power(self.groups,5)\n",
    "        denumenater = numenater+self.sibly\n",
    "        return 2*(1-numenater/denumenater)\n",
    "    \n",
    "    def Cost(self):\n",
    "        return 3.75/(self.groups+1.5)\n",
    "    \n",
    "    def Calculate_Reward(self):\n",
    "        self.reward = self.Benefit()-self.Cost()\n",
    "        \n",
    "    def Update_groups(self):\n",
    "        bc= np.bincount(self.agents)\n",
    "        self.groups[0:bc.shape[0]]=bc"
   ]
  },
  {
   "cell_type": "code",
   "execution_count": 8,
   "metadata": {},
   "outputs": [],
   "source": [
    "myenv = Env(10,num_locations=20)\n",
    "myenv.groups = np.arange(1,20,1)"
   ]
  },
  {
   "cell_type": "code",
   "execution_count": 9,
   "metadata": {},
   "outputs": [
    {
     "data": {
      "text/plain": [
       "[<matplotlib.lines.Line2D at 0x7f9f71a062e8>]"
      ]
     },
     "execution_count": 9,
     "metadata": {},
     "output_type": "execute_result"
    },
    {
     "data": {
      "image/png": "[encoded data removed]",
      "text/plain": [
       "<Figure size 432x288 with 1 Axes>"
      ]
     },
     "metadata": {
      "needs_background": "light"
     },
     "output_type": "display_data"
    }
   ],
   "source": [
    "plt.plot(myenv.Benefit(),c='blue')\n",
    "plt.plot(myenv.Cost(),c='red')\n",
    "#myenv.groups[0]=1000\n",
    "#myenv.groups[1]=10\n",
    "myenv.Calculate_Reward()\n",
    "plt.plot(myenv.reward,c='green')"
   ]
  },
  {
   "cell_type": "code",
   "execution_count": 12,
   "metadata": {},
   "outputs": [
    {
     "name": "stdout",
     "output_type": "stream",
     "text": [
      "[ 1  2  3  4  5  6  7  8  9 10 11 12 13 14 15 16 17 18 19]\n",
      "[ 0.49998     0.92793163  1.16181845  1.29790941  1.36247086  1.35570071\n",
      "  1.27104968  1.11165024  0.90033125  0.67391304  0.46613382  0.29556412\n",
      "  0.16574377  0.07163064  0.00545455 -0.04015705 -0.07111138 -0.09178336\n",
      " -0.10529006]\n"
     ]
    }
   ],
   "source": [
    "print(myenv.groups)\n",
    "print(myenv.reward)"
   ]
  }
 ],
 "metadata": {
  "kernelspec": {
   "display_name": "Python 3",
   "language": "python",
   "name": "python3"
  },
  "language_info": {
   "codemirror_mode": {
    "name": "ipython",
    "version": 3
   },
   "file_extension": ".py",
   "mimetype": "text/x-python",
   "name": "python",
   "nbconvert_exporter": "python",
   "pygments_lexer": "ipython3",
   "version": "3.5.6"
  }
 },
 "nbformat": 4,
 "nbformat_minor": 2
}
