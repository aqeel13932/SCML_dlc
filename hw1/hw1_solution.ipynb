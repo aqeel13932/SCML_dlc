{
 "cells": [
  {
   "cell_type": "code",
   "execution_count": 1,
   "metadata": {},
   "outputs": [],
   "source": [
    "from utils import *"
   ]
  },
  {
   "cell_type": "code",
   "execution_count": null,
   "metadata": {
    "scrolled": false
   },
   "outputs": [
    {
     "name": "stdout",
     "output_type": "stream",
     "text": [
      "dense/bias:0\n",
      "dense/kernel:0\n",
      "dense_1/bias:0\n",
      "dense_1/kernel:0\n",
      "dense_2/bias:0\n",
      "dense_2/kernel:0\n",
      "0000 mse: 1.530\n",
      "1000 mse: 0.002\n",
      "2000 mse: 0.002\n",
      "3000 mse: 0.001\n"
     ]
    }
   ],
   "source": [
    "name = 'Hopper-v2'\n",
    "x,y = Read_Data(name)\n",
    "sess = tf_reset()\n",
    "input_data,output_data,output_predictions = create_model_dynamic(x.shape[1],y.shape[2],no_layers=2,no_nodes=[200,200])\n",
    "var_names = sorted([v.name for v in tf.global_variables()])\n",
    "print('\\n'.join(var_names))\n",
    "# create loss\n",
    "mse = tf.reduce_mean(0.5 * tf.square(output_predictions - output_data))\n",
    "\n",
    "# create optimizer\n",
    "opt = tf.train.AdamOptimizer().minimize(mse)\n",
    "\n",
    "# initialize variables\n",
    "sess.run(tf.global_variables_initializer())\n",
    "\n",
    "# create saver to save model variables\n",
    "saver = tf.train.Saver()\n",
    "\n",
    "# run training\n",
    "batch_size = 128\n",
    "for training_step in range(5000):\n",
    "    # get a random subset of the training data\n",
    "    indices = np.random.randint(low=0, high=x.shape[0], size=batch_size)\n",
    "    input_batch = x[indices]\n",
    "    output_batch = y[indices,0]\n",
    "    \n",
    "    # run the optimizer and get the mse\n",
    "    _, mse_run = sess.run([opt, mse], feed_dict={input_data: input_batch, output_data: output_batch})\n",
    "    \n",
    "    # print the mse every so often\n",
    "    if training_step % 1000 == 0:\n",
    "        print('{0:04d} mse: {1:.3f}'.format(training_step, mse_run))\n",
    "        saver.save(sess, './bc_experts/{}.ckpt'.format(name))"
   ]
  },
  {
   "cell_type": "code",
   "execution_count": null,
   "metadata": {},
   "outputs": [],
   "source": []
  }
 ],
 "metadata": {
  "kernelspec": {
   "display_name": "Python 3",
   "language": "python",
   "name": "python3"
  },
  "language_info": {
   "codemirror_mode": {
    "name": "ipython",
    "version": 3
   },
   "file_extension": ".py",
   "mimetype": "text/x-python",
   "name": "python",
   "nbconvert_exporter": "python",
   "pygments_lexer": "ipython3",
   "version": "3.5.6"
  }
 },
 "nbformat": 4,
 "nbformat_minor": 2
}
